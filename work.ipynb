{
 "cells": [
  {
   "cell_type": "code",
   "execution_count": 1,
   "metadata": {},
   "outputs": [],
   "source": [
    "from datascience import *\n",
    "import numpy as np\n",
    "\n",
    "%matplotlib inline\n",
    "import matplotlib.pyplot as plots\n",
    "plots.style.use('fivethirtyeight')"
   ]
  },
  {
   "cell_type": "code",
   "execution_count": 2,
   "metadata": {},
   "outputs": [
    {
     "name": "stderr",
     "output_type": "stream",
     "text": [
      "/var/folders/70/3whxqt_j51b6kx783xwzklbw0000gn/T/ipykernel_44189/1145054876.py:4: DeprecationWarning: Importing display from IPython.core.display is deprecated since IPython 7.14, please import from IPython display\n",
      "  from IPython.core.display import display, HTML\n"
     ]
    }
   ],
   "source": [
    "import requests\n",
    "from bs4 import BeautifulSoup\n",
    "import pandas as pd\n",
    "from IPython.core.display import display, HTML\n",
    "\n",
    "def scrape_table(table):\n",
    "    df = pd.read_html(str(table))\n",
    "    df = pd.DataFrame(df[0])\n",
    "    return Table.from_df(df)"
   ]
  },
  {
   "cell_type": "markdown",
   "metadata": {},
   "source": [
    "#1. Scrape data#"
   ]
  },
  {
   "cell_type": "code",
   "execution_count": 18,
   "metadata": {},
   "outputs": [],
   "source": [
    "egg_price_url = \"https://www.globalproductprices.com/rankings/egg_prices/\"\n",
    "tax_rate_url = \"https://tradingeconomics.com/country-list/sales-tax-rate\"\n",
    "currency_url = \"https://taxsummaries.pwc.com/glossary/currency-codes\""
   ]
  },
  {
   "cell_type": "code",
   "execution_count": 4,
   "metadata": {},
   "outputs": [
    {
     "data": {
      "text/html": [
       "<table border=\"1\" class=\"dataframe\">\n",
       "    <thead>\n",
       "        <tr>\n",
       "            <th>Countries</th> <th>Eggs prices, dozen</th> <th>Rank</th>\n",
       "        </tr>\n",
       "    </thead>\n",
       "    <tbody>\n",
       "        <tr>\n",
       "            <td>New Zealand</td> <td>6.77              </td> <td>1   </td>\n",
       "        </tr>\n",
       "        <tr>\n",
       "            <td>Switzerland</td> <td>5.89              </td> <td>2   </td>\n",
       "        </tr>\n",
       "        <tr>\n",
       "            <td>Norway     </td> <td>5.43              </td> <td>3   </td>\n",
       "        </tr>\n",
       "        <tr>\n",
       "            <td>Uruguay    </td> <td>5.39              </td> <td>4   </td>\n",
       "        </tr>\n",
       "        <tr>\n",
       "            <td>Australia  </td> <td>5.07              </td> <td>5   </td>\n",
       "        </tr>\n",
       "        <tr>\n",
       "            <td>Bulgaria   </td> <td>4.86              </td> <td>6   </td>\n",
       "        </tr>\n",
       "        <tr>\n",
       "            <td>South Korea</td> <td>4.54              </td> <td>7   </td>\n",
       "        </tr>\n",
       "        <tr>\n",
       "            <td>Sweden     </td> <td>4.39              </td> <td>8   </td>\n",
       "        </tr>\n",
       "        <tr>\n",
       "            <td>Germany    </td> <td>4.22              </td> <td>9   </td>\n",
       "        </tr>\n",
       "        <tr>\n",
       "            <td>Belgium    </td> <td>4.11              </td> <td>10  </td>\n",
       "        </tr>\n",
       "    </tbody>\n",
       "</table>\n",
       "<p>... (71 rows omitted)</p>"
      ],
      "text/plain": [
       "Countries   | Eggs prices, dozen | Rank\n",
       "New Zealand | 6.77               | 1\n",
       "Switzerland | 5.89               | 2\n",
       "Norway      | 5.43               | 3\n",
       "Uruguay     | 5.39               | 4\n",
       "Australia   | 5.07               | 5\n",
       "Bulgaria    | 4.86               | 6\n",
       "South Korea | 4.54               | 7\n",
       "Sweden      | 4.39               | 8\n",
       "Germany     | 4.22               | 9\n",
       "Belgium     | 4.11               | 10\n",
       "... (71 rows omitted)"
      ]
     },
     "execution_count": 4,
     "metadata": {},
     "output_type": "execute_result"
    }
   ],
   "source": [
    "#Scrape data from egg_price_url\n",
    "egg_price_request = requests.get(egg_price_url)\n",
    "egg_soup = BeautifulSoup(egg_price_request.text, 'html.parser')\n",
    "\n",
    "raw_price_table = egg_soup.find('table')\n",
    "egg_price_table = scrape_table(raw_price_table)\n",
    "egg_price_table"
   ]
  },
  {
   "cell_type": "code",
   "execution_count": 16,
   "metadata": {},
   "outputs": [
    {
     "data": {
      "text/html": [
       "<table border=\"1\" class=\"dataframe\">\n",
       "    <thead>\n",
       "        <tr>\n",
       "            <th>Country</th> <th>Last</th> <th>Previous</th> <th>Reference</th> <th>Unit</th>\n",
       "        </tr>\n",
       "    </thead>\n",
       "    <tbody>\n",
       "        <tr>\n",
       "            <td>Afghanistan        </td> <td>10  </td> <td>10      </td> <td>Dec/24   </td> <td>%   </td>\n",
       "        </tr>\n",
       "        <tr>\n",
       "            <td>Albania            </td> <td>20  </td> <td>20      </td> <td>Dec/24   </td> <td>%   </td>\n",
       "        </tr>\n",
       "        <tr>\n",
       "            <td>Algeria            </td> <td>19  </td> <td>19      </td> <td>Dec/24   </td> <td>%   </td>\n",
       "        </tr>\n",
       "        <tr>\n",
       "            <td>Andorra            </td> <td>4.5 </td> <td>4.5     </td> <td>Dec/24   </td> <td>%   </td>\n",
       "        </tr>\n",
       "        <tr>\n",
       "            <td>Angola             </td> <td>14  </td> <td>14      </td> <td>Dec/23   </td> <td>%   </td>\n",
       "        </tr>\n",
       "        <tr>\n",
       "            <td>Antigua And Barbuda</td> <td>15  </td> <td>15      </td> <td>Dec/24   </td> <td>%   </td>\n",
       "        </tr>\n",
       "        <tr>\n",
       "            <td>Argentina          </td> <td>21  </td> <td>21      </td> <td>Dec/24   </td> <td>%   </td>\n",
       "        </tr>\n",
       "        <tr>\n",
       "            <td>Armenia            </td> <td>20  </td> <td>20      </td> <td>Dec/24   </td> <td>%   </td>\n",
       "        </tr>\n",
       "        <tr>\n",
       "            <td>Aruba              </td> <td>4   </td> <td>4       </td> <td>Dec/24   </td> <td>%   </td>\n",
       "        </tr>\n",
       "        <tr>\n",
       "            <td>Australia          </td> <td>10  </td> <td>10      </td> <td>Dec/24   </td> <td>%   </td>\n",
       "        </tr>\n",
       "    </tbody>\n",
       "</table>\n",
       "<p>... (169 rows omitted)</p>"
      ],
      "text/plain": [
       "Country             | Last | Previous | Reference | Unit\n",
       "Afghanistan         | 10   | 10       | Dec/24    | %\n",
       "Albania             | 20   | 20       | Dec/24    | %\n",
       "Algeria             | 19   | 19       | Dec/24    | %\n",
       "Andorra             | 4.5  | 4.5      | Dec/24    | %\n",
       "Angola              | 14   | 14       | Dec/23    | %\n",
       "Antigua And Barbuda | 15   | 15       | Dec/24    | %\n",
       "Argentina           | 21   | 21       | Dec/24    | %\n",
       "Armenia             | 20   | 20       | Dec/24    | %\n",
       "Aruba               | 4    | 4        | Dec/24    | %\n",
       "Australia           | 10   | 10       | Dec/24    | %\n",
       "... (169 rows omitted)"
      ]
     },
     "execution_count": 16,
     "metadata": {},
     "output_type": "execute_result"
    }
   ],
   "source": [
    "#Scrape data from tax_rate_url\n",
    "headers = {\n",
    "    'User-Agent': 'Mozilla/5.0 (Windows NT 10.0; Win64; x64) AppleWebKit/537.36 (KHTML, like Gecko) Chrome/91.0.4472.124 Safari/537.36'\n",
    "}\n",
    "tax_rate_request = requests.get(tax_rate_url, headers=headers)\n",
    "tax_soup = BeautifulSoup(tax_rate_request.text, 'html.parser')\n",
    "\n",
    "raw_tax_table = tax_soup.find('table')\n",
    "tax_price_table = scrape_table(raw_tax_table)\n",
    "tax_price_table"
   ]
  },
  {
   "cell_type": "code",
   "execution_count": 24,
   "metadata": {},
   "outputs": [
    {
     "data": {
      "text/html": [
       "<div>\n",
       "<style scoped>\n",
       "    .dataframe tbody tr th:only-of-type {\n",
       "        vertical-align: middle;\n",
       "    }\n",
       "\n",
       "    .dataframe tbody tr th {\n",
       "        vertical-align: top;\n",
       "    }\n",
       "\n",
       "    .dataframe thead th {\n",
       "        text-align: right;\n",
       "    }\n",
       "</style>\n",
       "<table border=\"1\" class=\"dataframe\">\n",
       "  <thead>\n",
       "    <tr style=\"text-align: right;\">\n",
       "      <th></th>\n",
       "      <th>0</th>\n",
       "      <th>1</th>\n",
       "      <th>2</th>\n",
       "    </tr>\n",
       "  </thead>\n",
       "  <tbody>\n",
       "    <tr>\n",
       "      <th>0</th>\n",
       "      <td>Territory</td>\n",
       "      <td>Currency code (ISO 4217)</td>\n",
       "      <td>Currency name</td>\n",
       "    </tr>\n",
       "    <tr>\n",
       "      <th>1</th>\n",
       "      <td>Albania</td>\n",
       "      <td>ALL</td>\n",
       "      <td>lek</td>\n",
       "    </tr>\n",
       "    <tr>\n",
       "      <th>2</th>\n",
       "      <td>Algeria</td>\n",
       "      <td>DZD</td>\n",
       "      <td>dinar</td>\n",
       "    </tr>\n",
       "    <tr>\n",
       "      <th>3</th>\n",
       "      <td>Angola</td>\n",
       "      <td>AOA</td>\n",
       "      <td>kwanza</td>\n",
       "    </tr>\n",
       "    <tr>\n",
       "      <th>4</th>\n",
       "      <td>Argentina</td>\n",
       "      <td>ARS</td>\n",
       "      <td>peso</td>\n",
       "    </tr>\n",
       "    <tr>\n",
       "      <th>...</th>\n",
       "      <td>...</td>\n",
       "      <td>...</td>\n",
       "      <td>...</td>\n",
       "    </tr>\n",
       "    <tr>\n",
       "      <th>150</th>\n",
       "      <td>Uzbekistan, Republic of</td>\n",
       "      <td>UZS</td>\n",
       "      <td>soum</td>\n",
       "    </tr>\n",
       "    <tr>\n",
       "      <th>151</th>\n",
       "      <td>Venezuela</td>\n",
       "      <td>VEF</td>\n",
       "      <td>bolivar</td>\n",
       "    </tr>\n",
       "    <tr>\n",
       "      <th>152</th>\n",
       "      <td>Vietnam</td>\n",
       "      <td>VND</td>\n",
       "      <td>dong</td>\n",
       "    </tr>\n",
       "    <tr>\n",
       "      <th>153</th>\n",
       "      <td>Zambia</td>\n",
       "      <td>ZMW</td>\n",
       "      <td>kwacha</td>\n",
       "    </tr>\n",
       "    <tr>\n",
       "      <th>154</th>\n",
       "      <td>Zimbabwe</td>\n",
       "      <td>ZWD</td>\n",
       "      <td>dollar</td>\n",
       "    </tr>\n",
       "  </tbody>\n",
       "</table>\n",
       "<p>155 rows × 3 columns</p>\n",
       "</div>"
      ],
      "text/plain": [
       "                           0                         1              2\n",
       "0                  Territory  Currency code (ISO 4217)  Currency name\n",
       "1                    Albania                       ALL            lek\n",
       "2                    Algeria                       DZD          dinar\n",
       "3                     Angola                       AOA         kwanza\n",
       "4                  Argentina                       ARS           peso\n",
       "..                       ...                       ...            ...\n",
       "150  Uzbekistan, Republic of                       UZS           soum\n",
       "151                Venezuela                       VEF        bolivar\n",
       "152                  Vietnam                       VND           dong\n",
       "153                   Zambia                       ZMW         kwacha\n",
       "154                 Zimbabwe                       ZWD         dollar\n",
       "\n",
       "[155 rows x 3 columns]"
      ]
     },
     "execution_count": 24,
     "metadata": {},
     "output_type": "execute_result"
    }
   ],
   "source": [
    "#Collect currency data\n",
    "currency_request = requests.get(currency_url, headers=headers)\n",
    "currency_soup = BeautifulSoup(currency_request.text, 'html.parser')\n",
    "\n",
    "raw_currency_table = currency_soup.find('table')\n",
    "currency_table = pd.read_html(str(raw_currency_table))[0]\n",
    "currency_table"
   ]
  }
 ],
 "metadata": {
  "kernelspec": {
   "display_name": "Python 3",
   "language": "python",
   "name": "python3"
  },
  "language_info": {
   "codemirror_mode": {
    "name": "ipython",
    "version": 3
   },
   "file_extension": ".py",
   "mimetype": "text/x-python",
   "name": "python",
   "nbconvert_exporter": "python",
   "pygments_lexer": "ipython3",
   "version": "3.11.0"
  }
 },
 "nbformat": 4,
 "nbformat_minor": 2
}
