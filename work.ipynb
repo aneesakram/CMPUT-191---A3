{
 "cells": [
  {
   "cell_type": "markdown",
   "metadata": {},
   "source": [
    "### Team Members\n",
    "Hoang Nguyen (hhn1)\n",
    "\n",
    "Vicent Dao (vdao)\n",
    "\n",
    "Anees Akram (aneesudd)"
   ]
  },
  {
   "cell_type": "code",
   "execution_count": 14,
   "metadata": {
    "executionInfo": {
     "elapsed": 3431,
     "status": "ok",
     "timestamp": 1733172274973,
     "user": {
      "displayName": "Vincent Dao",
      "userId": "14738962386097886657"
     },
     "user_tz": 420
    },
    "id": "LBEKc5miVXJz"
   },
   "outputs": [],
   "source": [
    "from datascience import *\n",
    "import numpy as np\n",
    "\n",
    "%matplotlib inline\n",
    "import matplotlib.pyplot as plots\n",
    "plots.style.use('fivethirtyeight')"
   ]
  },
  {
   "cell_type": "code",
   "execution_count": 15,
   "metadata": {
    "executionInfo": {
     "elapsed": 385,
     "status": "ok",
     "timestamp": 1733172275357,
     "user": {
      "displayName": "Vincent Dao",
      "userId": "14738962386097886657"
     },
     "user_tz": 420
    },
    "id": "M-Ae3kxIVXJ0"
   },
   "outputs": [],
   "source": [
    "import requests\n",
    "from bs4 import BeautifulSoup\n",
    "import pandas as pd\n",
    "from IPython.core.display import display, HTML\n",
    "\n",
    "def scrape_table(table):\n",
    "    df = pd.read_html(str(table))\n",
    "    df = pd.DataFrame(df[0])\n",
    "    return Table.from_df(df)\n"
   ]
  },
  {
   "cell_type": "markdown",
   "metadata": {
    "id": "faKYj0SfVXJ1"
   },
   "source": [
    "# 1. Scrape data"
   ]
  },
  {
   "cell_type": "code",
   "execution_count": 16,
   "metadata": {
    "executionInfo": {
     "elapsed": 2,
     "status": "ok",
     "timestamp": 1733172275357,
     "user": {
      "displayName": "Vincent Dao",
      "userId": "14738962386097886657"
     },
     "user_tz": 420
    },
    "id": "kNh5hLTjVXJ2"
   },
   "outputs": [],
   "source": [
    "egg_price_url = \"https://www.globalproductprices.com/rankings/egg_prices/\"\n",
    "tax_rate_url = \"https://tradingeconomics.com/country-list/sales-tax-rate\"\n",
    "currency_url = \"https://taxsummaries.pwc.com/glossary/currency-codes\""
   ]
  },
  {
   "cell_type": "code",
   "execution_count": 17,
   "metadata": {
    "colab": {
     "base_uri": "https://localhost:8080/",
     "height": 447
    },
    "executionInfo": {
     "elapsed": 1271,
     "status": "ok",
     "timestamp": 1733172276626,
     "user": {
      "displayName": "Vincent Dao",
      "userId": "14738962386097886657"
     },
     "user_tz": 420
    },
    "id": "u7Hg0LzbVXJ2",
    "outputId": "e0bc8385-d272-4f1f-fdeb-43b756f16640"
   },
   "outputs": [
    {
     "name": "stderr",
     "output_type": "stream",
     "text": [
      "<ipython-input-15-6424c7166e10>:7: FutureWarning: Passing literal html to 'read_html' is deprecated and will be removed in a future version. To read from a literal string, wrap it in a 'StringIO' object.\n",
      "  df = pd.read_html(str(table))\n"
     ]
    },
    {
     "data": {
      "text/html": [
       "<table border=\"1\" class=\"dataframe\">\n",
       "    <thead>\n",
       "        <tr>\n",
       "            <th>Countries</th> <th>Eggs prices, dozen</th> <th>Rank</th>\n",
       "        </tr>\n",
       "    </thead>\n",
       "    <tbody>\n",
       "        <tr>\n",
       "            <td>Argentina </td> <td>3.48              </td> <td>25  </td>\n",
       "        </tr>\n",
       "        <tr>\n",
       "            <td>Australia </td> <td>5.08              </td> <td>5   </td>\n",
       "        </tr>\n",
       "        <tr>\n",
       "            <td>Austria   </td> <td>3.81              </td> <td>17  </td>\n",
       "        </tr>\n",
       "        <tr>\n",
       "            <td>Azerbaijan</td> <td>1.59              </td> <td>76  </td>\n",
       "        </tr>\n",
       "        <tr>\n",
       "            <td>Bangladesh</td> <td>1.26              </td> <td>79  </td>\n",
       "        </tr>\n",
       "        <tr>\n",
       "            <td>Belgium   </td> <td>4.12              </td> <td>10  </td>\n",
       "        </tr>\n",
       "        <tr>\n",
       "            <td>Bolivia   </td> <td>1.87              </td> <td>70  </td>\n",
       "        </tr>\n",
       "        <tr>\n",
       "            <td>Brazil    </td> <td>2.18              </td> <td>57  </td>\n",
       "        </tr>\n",
       "        <tr>\n",
       "            <td>Bulgaria  </td> <td>4.87              </td> <td>6   </td>\n",
       "        </tr>\n",
       "        <tr>\n",
       "            <td>Cameroon  </td> <td>1.94              </td> <td>67  </td>\n",
       "        </tr>\n",
       "    </tbody>\n",
       "</table>\n",
       "<p>... (71 rows omitted)</p>"
      ],
      "text/plain": [
       "Countries  | Eggs prices, dozen | Rank\n",
       "Argentina  | 3.48               | 25\n",
       "Australia  | 5.08               | 5\n",
       "Austria    | 3.81               | 17\n",
       "Azerbaijan | 1.59               | 76\n",
       "Bangladesh | 1.26               | 79\n",
       "Belgium    | 4.12               | 10\n",
       "Bolivia    | 1.87               | 70\n",
       "Brazil     | 2.18               | 57\n",
       "Bulgaria   | 4.87               | 6\n",
       "Cameroon   | 1.94               | 67\n",
       "... (71 rows omitted)"
      ]
     },
     "execution_count": 17,
     "metadata": {},
     "output_type": "execute_result"
    }
   ],
   "source": [
    "#Scrape data from egg_price_url\n",
    "egg_price_request = requests.get(egg_price_url)\n",
    "egg_soup = BeautifulSoup(egg_price_request.text, 'html.parser')\n",
    "\n",
    "raw_price_table = egg_soup.find('table')\n",
    "egg_price_table = scrape_table(raw_price_table)\n",
    "egg_price_table = egg_price_table.sort(\"Countries\")\n",
    "egg_price_table"
   ]
  },
  {
   "cell_type": "code",
   "execution_count": 18,
   "metadata": {
    "colab": {
     "base_uri": "https://localhost:8080/",
     "height": 447
    },
    "executionInfo": {
     "elapsed": 651,
     "status": "ok",
     "timestamp": 1733172277274,
     "user": {
      "displayName": "Vincent Dao",
      "userId": "14738962386097886657"
     },
     "user_tz": 420
    },
    "id": "TKMrk2hVVXJ3",
    "outputId": "b54f0419-fae7-4094-aa21-a6b8298dac81"
   },
   "outputs": [
    {
     "name": "stderr",
     "output_type": "stream",
     "text": [
      "<ipython-input-15-6424c7166e10>:7: FutureWarning: Passing literal html to 'read_html' is deprecated and will be removed in a future version. To read from a literal string, wrap it in a 'StringIO' object.\n",
      "  df = pd.read_html(str(table))\n"
     ]
    },
    {
     "data": {
      "text/html": [
       "<table border=\"1\" class=\"dataframe\">\n",
       "    <thead>\n",
       "        <tr>\n",
       "            <th>Country</th> <th>Last</th> <th>Previous</th> <th>Reference</th> <th>Unit</th>\n",
       "        </tr>\n",
       "    </thead>\n",
       "    <tbody>\n",
       "        <tr>\n",
       "            <td>Afghanistan        </td> <td>10  </td> <td>10      </td> <td>Dec/24   </td> <td>%   </td>\n",
       "        </tr>\n",
       "        <tr>\n",
       "            <td>Albania            </td> <td>20  </td> <td>20      </td> <td>Dec/24   </td> <td>%   </td>\n",
       "        </tr>\n",
       "        <tr>\n",
       "            <td>Algeria            </td> <td>19  </td> <td>19      </td> <td>Dec/24   </td> <td>%   </td>\n",
       "        </tr>\n",
       "        <tr>\n",
       "            <td>Andorra            </td> <td>4.5 </td> <td>4.5     </td> <td>Dec/24   </td> <td>%   </td>\n",
       "        </tr>\n",
       "        <tr>\n",
       "            <td>Angola             </td> <td>14  </td> <td>14      </td> <td>Dec/23   </td> <td>%   </td>\n",
       "        </tr>\n",
       "        <tr>\n",
       "            <td>Antigua And Barbuda</td> <td>15  </td> <td>15      </td> <td>Dec/24   </td> <td>%   </td>\n",
       "        </tr>\n",
       "        <tr>\n",
       "            <td>Argentina          </td> <td>21  </td> <td>21      </td> <td>Dec/24   </td> <td>%   </td>\n",
       "        </tr>\n",
       "        <tr>\n",
       "            <td>Armenia            </td> <td>20  </td> <td>20      </td> <td>Dec/24   </td> <td>%   </td>\n",
       "        </tr>\n",
       "        <tr>\n",
       "            <td>Aruba              </td> <td>4   </td> <td>4       </td> <td>Dec/24   </td> <td>%   </td>\n",
       "        </tr>\n",
       "        <tr>\n",
       "            <td>Australia          </td> <td>10  </td> <td>10      </td> <td>Dec/24   </td> <td>%   </td>\n",
       "        </tr>\n",
       "    </tbody>\n",
       "</table>\n",
       "<p>... (169 rows omitted)</p>"
      ],
      "text/plain": [
       "Country             | Last | Previous | Reference | Unit\n",
       "Afghanistan         | 10   | 10       | Dec/24    | %\n",
       "Albania             | 20   | 20       | Dec/24    | %\n",
       "Algeria             | 19   | 19       | Dec/24    | %\n",
       "Andorra             | 4.5  | 4.5      | Dec/24    | %\n",
       "Angola              | 14   | 14       | Dec/23    | %\n",
       "Antigua And Barbuda | 15   | 15       | Dec/24    | %\n",
       "Argentina           | 21   | 21       | Dec/24    | %\n",
       "Armenia             | 20   | 20       | Dec/24    | %\n",
       "Aruba               | 4    | 4        | Dec/24    | %\n",
       "Australia           | 10   | 10       | Dec/24    | %\n",
       "... (169 rows omitted)"
      ]
     },
     "execution_count": 18,
     "metadata": {},
     "output_type": "execute_result"
    }
   ],
   "source": [
    "#Scrape data from tax_rate_url\n",
    "headers = {\n",
    "    'User-Agent': 'Mozilla/5.0 (Windows NT 10.0; Win64; x64) AppleWebKit/537.36 (KHTML, like Gecko) Chrome/91.0.4472.124 Safari/537.36'\n",
    "}\n",
    "tax_rate_request = requests.get(tax_rate_url, headers=headers)\n",
    "tax_soup = BeautifulSoup(tax_rate_request.text, 'html.parser')\n",
    "\n",
    "raw_tax_table = tax_soup.find('table')\n",
    "tax_price_table = scrape_table(raw_tax_table)\n",
    "tax_price_table"
   ]
  },
  {
   "cell_type": "code",
   "execution_count": 19,
   "metadata": {
    "colab": {
     "base_uri": "https://localhost:8080/",
     "height": 447
    },
    "executionInfo": {
     "elapsed": 2558,
     "status": "ok",
     "timestamp": 1733172279830,
     "user": {
      "displayName": "Vincent Dao",
      "userId": "14738962386097886657"
     },
     "user_tz": 420
    },
    "id": "hRX4dckKVXJ3",
    "outputId": "4051ffc7-ccb1-43e4-f8b9-c339269beb2f"
   },
   "outputs": [
    {
     "name": "stderr",
     "output_type": "stream",
     "text": [
      "<ipython-input-19-9a075f66d1e2>:6: FutureWarning: Passing literal html to 'read_html' is deprecated and will be removed in a future version. To read from a literal string, wrap it in a 'StringIO' object.\n",
      "  currency_df = pd.read_html(str(raw_currency_table), header=0)[0]\n"
     ]
    },
    {
     "data": {
      "text/html": [
       "<table border=\"1\" class=\"dataframe\">\n",
       "    <thead>\n",
       "        <tr>\n",
       "            <th>Territory</th> <th>Currency code (ISO 4217)</th> <th>Currency name</th>\n",
       "        </tr>\n",
       "    </thead>\n",
       "    <tbody>\n",
       "        <tr>\n",
       "            <td>Albania   </td> <td>ALL                     </td> <td>lek          </td>\n",
       "        </tr>\n",
       "        <tr>\n",
       "            <td>Algeria   </td> <td>DZD                     </td> <td>dinar        </td>\n",
       "        </tr>\n",
       "        <tr>\n",
       "            <td>Angola    </td> <td>AOA                     </td> <td>kwanza       </td>\n",
       "        </tr>\n",
       "        <tr>\n",
       "            <td>Argentina </td> <td>ARS                     </td> <td>peso         </td>\n",
       "        </tr>\n",
       "        <tr>\n",
       "            <td>Armenia   </td> <td>AMD                     </td> <td>dram         </td>\n",
       "        </tr>\n",
       "        <tr>\n",
       "            <td>Australia </td> <td>AUD                     </td> <td>dollar       </td>\n",
       "        </tr>\n",
       "        <tr>\n",
       "            <td>Austria   </td> <td>EUR                     </td> <td>euro         </td>\n",
       "        </tr>\n",
       "        <tr>\n",
       "            <td>Azerbaijan</td> <td>AZN                     </td> <td>manat        </td>\n",
       "        </tr>\n",
       "        <tr>\n",
       "            <td>Bahrain   </td> <td>BHD                     </td> <td>dinar        </td>\n",
       "        </tr>\n",
       "        <tr>\n",
       "            <td>Barbados  </td> <td>BBD                     </td> <td>dollar       </td>\n",
       "        </tr>\n",
       "    </tbody>\n",
       "</table>\n",
       "<p>... (144 rows omitted)</p>"
      ],
      "text/plain": [
       "Territory  | Currency code (ISO 4217) | Currency name\n",
       "Albania    | ALL                      | lek\n",
       "Algeria    | DZD                      | dinar\n",
       "Angola     | AOA                      | kwanza\n",
       "Argentina  | ARS                      | peso\n",
       "Armenia    | AMD                      | dram\n",
       "Australia  | AUD                      | dollar\n",
       "Austria    | EUR                      | euro\n",
       "Azerbaijan | AZN                      | manat\n",
       "Bahrain    | BHD                      | dinar\n",
       "Barbados   | BBD                      | dollar\n",
       "... (144 rows omitted)"
      ]
     },
     "execution_count": 19,
     "metadata": {},
     "output_type": "execute_result"
    }
   ],
   "source": [
    "#Collect currency data\n",
    "currency_request = requests.get(currency_url, headers=headers)\n",
    "currency_soup = BeautifulSoup(currency_request.text, 'html.parser')\n",
    "\n",
    "raw_currency_table = currency_soup.find('table')\n",
    "currency_df = pd.read_html(str(raw_currency_table), header=0)[0]\n",
    "currency_table = Table.from_df(currency_df)\n",
    "currency_table"
   ]
  },
  {
   "cell_type": "markdown",
   "metadata": {
    "id": "pg3LciPgVXJ4"
   },
   "source": [
    "# 2. Data Cleaning"
   ]
  },
  {
   "cell_type": "code",
   "execution_count": 20,
   "metadata": {
    "colab": {
     "base_uri": "https://localhost:8080/",
     "height": 392
    },
    "executionInfo": {
     "elapsed": 5,
     "status": "ok",
     "timestamp": 1733172279831,
     "user": {
      "displayName": "Vincent Dao",
      "userId": "14738962386097886657"
     },
     "user_tz": 420
    },
    "id": "uDoZRFYzVXJ4",
    "outputId": "9bde24b3-ef9c-49d7-98e1-48fe7445b34f"
   },
   "outputs": [
    {
     "data": {
      "text/html": [
       "<table border=\"1\" class=\"dataframe\">\n",
       "    <thead>\n",
       "        <tr>\n",
       "            <th>Country</th> <th>Last</th> <th>Previous</th> <th>Reference</th> <th>Unit</th>\n",
       "        </tr>\n",
       "    </thead>\n",
       "    <tbody>\n",
       "        <tr>\n",
       "            <td>Afghanistan        </td> <td>10  </td> <td>10      </td> <td>Dec/24   </td> <td>%   </td>\n",
       "        </tr>\n",
       "        <tr>\n",
       "            <td>Albania            </td> <td>20  </td> <td>20      </td> <td>Dec/24   </td> <td>%   </td>\n",
       "        </tr>\n",
       "        <tr>\n",
       "            <td>Algeria            </td> <td>19  </td> <td>19      </td> <td>Dec/24   </td> <td>%   </td>\n",
       "        </tr>\n",
       "        <tr>\n",
       "            <td>Andorra            </td> <td>4.5 </td> <td>4.5     </td> <td>Dec/24   </td> <td>%   </td>\n",
       "        </tr>\n",
       "        <tr>\n",
       "            <td>Angola             </td> <td>14  </td> <td>14      </td> <td>Dec/23   </td> <td>%   </td>\n",
       "        </tr>\n",
       "        <tr>\n",
       "            <td>Antigua And Barbuda</td> <td>15  </td> <td>15      </td> <td>Dec/24   </td> <td>%   </td>\n",
       "        </tr>\n",
       "        <tr>\n",
       "            <td>Argentina          </td> <td>21  </td> <td>21      </td> <td>Dec/24   </td> <td>%   </td>\n",
       "        </tr>\n",
       "        <tr>\n",
       "            <td>Armenia            </td> <td>20  </td> <td>20      </td> <td>Dec/24   </td> <td>%   </td>\n",
       "        </tr>\n",
       "        <tr>\n",
       "            <td>Aruba              </td> <td>4   </td> <td>4       </td> <td>Dec/24   </td> <td>%   </td>\n",
       "        </tr>\n",
       "        <tr>\n",
       "            <td>Australia          </td> <td>10  </td> <td>10      </td> <td>Dec/24   </td> <td>%   </td>\n",
       "        </tr>\n",
       "    </tbody>\n",
       "</table>\n",
       "<p>... (169 rows omitted)</p>"
      ],
      "text/plain": [
       "Country             | Last | Previous | Reference | Unit\n",
       "Afghanistan         | 10   | 10       | Dec/24    | %\n",
       "Albania             | 20   | 20       | Dec/24    | %\n",
       "Algeria             | 19   | 19       | Dec/24    | %\n",
       "Andorra             | 4.5  | 4.5      | Dec/24    | %\n",
       "Angola              | 14   | 14       | Dec/23    | %\n",
       "Antigua And Barbuda | 15   | 15       | Dec/24    | %\n",
       "Argentina           | 21   | 21       | Dec/24    | %\n",
       "Armenia             | 20   | 20       | Dec/24    | %\n",
       "Aruba               | 4    | 4        | Dec/24    | %\n",
       "Australia           | 10   | 10       | Dec/24    | %\n",
       "... (169 rows omitted)"
      ]
     },
     "execution_count": 20,
     "metadata": {},
     "output_type": "execute_result"
    }
   ],
   "source": [
    "missing_country_mapping = {\n",
    "    \"United States\" : \"USA\",\n",
    "    \"United Kingdom\" : \"UK\",\n",
    "    \"Dominican Republic\" : 'Domin. Rep.',\n",
    "    \"United Arab Emirates\": \"UA Emirates\",\n",
    "    \"Czech Republic\" : \"Czechia\"\n",
    "\n",
    "}\n",
    "\n",
    "tax_price_table = tax_price_table.with_columns(\"Country\",[missing_country_mapping.get(x, x) for x in tax_price_table.column(\"Country\")])\n",
    "tax_price_table"
   ]
  },
  {
   "cell_type": "code",
   "execution_count": 21,
   "metadata": {
    "colab": {
     "base_uri": "https://localhost:8080/"
    },
    "executionInfo": {
     "elapsed": 8493,
     "status": "ok",
     "timestamp": 1733172288319,
     "user": {
      "displayName": "Vincent Dao",
      "userId": "14738962386097886657"
     },
     "user_tz": 420
    },
    "id": "iebsAFetVXJ5",
    "outputId": "723441ca-f11a-4068-c596-f5b580724231"
   },
   "outputs": [
    {
     "name": "stdout",
     "output_type": "stream",
     "text": [
      "Collecting rapidfuzz\n",
      "  Downloading rapidfuzz-3.10.1-cp310-cp310-manylinux_2_17_x86_64.manylinux2014_x86_64.whl.metadata (11 kB)\n",
      "Downloading rapidfuzz-3.10.1-cp310-cp310-manylinux_2_17_x86_64.manylinux2014_x86_64.whl (3.1 MB)\n",
      "\u001b[2K   \u001b[90m━━━━━━━━━━━━━━━━━━━━━━━━━━━━━━━━━━━━━━━━\u001b[0m \u001b[32m3.1/3.1 MB\u001b[0m \u001b[31m25.5 MB/s\u001b[0m eta \u001b[36m0:00:00\u001b[0m\n",
      "\u001b[?25hInstalling collected packages: rapidfuzz\n",
      "Successfully installed rapidfuzz-3.10.1\n",
      "Mapping: {'Burkina Faso': 'Burkina Faso', 'Lesotho': 'Lesotho', 'Montenegro': 'Montenegro', 'Laos': 'Laos', 'Uzbekistan': 'Uzbekistan', 'Vietnam': 'Vietnam', 'Morocco': 'Morocco', 'Oman': 'Oman', 'Congo, Republic of': 'Congo, Republic of', 'Samoa': 'Samoa', 'Guyana': 'Guyana', 'Lithuania': 'Lithuania', 'Comoros': 'Comoros', 'Tanzania': 'Tanzania', 'Dominican Republic': 'Dominican Republic', 'Belarus': 'Belarus', 'Malawi': 'Malawi', 'Sierra Leone': 'Sierra Leone', 'Iran': 'Iran', 'Euro Area': 'Euro Area', 'Chile': 'Chile', 'Papua New Guinea': 'Papua New Guinea', 'Myanmar': 'Myanmar', 'Gabon': 'Gabon', 'North Macedonia': 'North Macedonia', 'Dominica': 'Dominica', 'Puerto Rico': 'Puerto Rico', 'United States': 'United States', 'Austria': 'Austria', 'Philippines': 'Philippines', 'Saudi Arabia': 'Saudi Arabia', 'Grenada': 'Grenada', 'Namibia': 'Namibia', 'Colombia': 'Colombia', 'Guam': 'Guam', 'North Korea': 'North Korea', 'Singapore': 'Singapore', 'Ivory Coast': 'Ivory Coast', 'Slovenia': 'Slovenia', 'Eritrea': 'Eritrea', \"Ivory Coast (Cote d'Ivoire)\": \"Ivory Coast (Cote d'Ivoire)\", 'Jordan': 'Jordan', 'Croatia': 'Croatia', 'Cameroon': 'Cameroon', 'Kuwait': 'Kuwait', 'Bahamas': 'Bahamas', 'Ukraine': 'Ukraine', 'Pakistan': 'Pakistan', 'Japan': 'Japan', 'Turkmenistan': 'Turkmenistan', 'Greece': 'Greece', 'New Caledonia': 'New Caledonia', 'Sudan': 'Sudan', 'European Union': 'European Union', 'Solomon Islands': 'Solomon Islands', 'Barbados': 'Barbados', 'Panama': 'Panama', 'Republic of the Congo': 'Republic of the Congo', 'Gambia': 'Gambia', 'St Lucia': 'St Lucia', 'Armenia': 'Armenia', 'Saint Lucia': 'Saint Lucia', 'Lebanon': 'Lebanon', 'Micronesia': 'Micronesia', 'Peru': 'Peru', 'Honduras': 'Honduras', 'Denmark': 'Denmark', 'Congo': 'Congo', 'Cayman Islands': 'Cayman Islands', 'Guernsey, Channel Islands': 'Guernsey, Channel Islands', 'Macedonia': 'Macedonia', 'Togo': 'Togo', 'Swaziland': 'Swaziland', 'Somalia': 'Somalia', 'Jersey, Channel Islands': 'Jersey, Channel Islands', 'Moldova': 'Moldova', 'Nepal': 'Nepal', 'Trinidad And Tobago': 'Trinidad And Tobago', 'Chad': 'Chad', 'Botswana': 'Botswana', 'Czech Republic': 'Czech Republic', 'Niger': 'Niger', 'Bahrain': 'Bahrain', 'Seychelles': 'Seychelles', 'Tonga': 'Tonga', 'Mexico': 'Mexico', 'Taiwan': 'Taiwan', 'Cambodia': 'Cambodia', 'Afghanistan': 'Afghanistan', 'Mongolia': 'Mongolia', 'Maldives, Republic of': 'Maldives, Republic of', 'Congo, Democratic Republic of the': 'Congo, Democratic Republic of the', 'Guatemala': 'Guatemala', 'Ireland': 'Ireland', 'Mauritania': 'Mauritania', 'Guinea': 'Guinea', 'Isle of Man': 'Isle of Man', 'Andorra': 'Andorra', 'Spain': 'Spain', 'Slovakia': 'Slovakia', 'Jamaica': 'Jamaica', 'Belize': 'Belize', 'Angola': 'Angola', 'South Africa': 'South Africa', 'Germany': 'Germany', 'Czechia': 'Czechia', 'Poland': 'Poland', 'Libya': 'Libya', 'Bangladesh': 'Bangladesh', 'Slovak Republic': 'Slovak Republic', 'Nicaragua': 'Nicaragua', 'Ecuador': 'Ecuador', 'Hungary': 'Hungary', 'Monaco': 'Monaco', 'Latvia': 'Latvia', 'Sri Lanka': 'Sri Lanka', 'Uganda': 'Uganda', 'Russia': 'Russia', 'Haiti': 'Haiti', 'Tajikistan': 'Tajikistan', 'Italy': 'Italy', 'Korea, Republic of': 'Korea, Republic of', 'UA Emirates': 'UA Emirates', 'Brazil': 'Brazil', 'Azerbaijan': 'Azerbaijan', 'Bhutan': 'Bhutan', 'Malta': 'Malta', 'Russian Federation': 'Russian Federation', 'Cyprus': 'Cyprus', 'Rwanda': 'Rwanda', 'Finland': 'Finland', 'Thailand': 'Thailand', 'Argentina': 'Argentina', 'Mauritius': 'Mauritius', 'Serbia': 'Serbia', 'Albania': 'Albania', 'New Zealand': 'New Zealand', 'Palestinian territories': 'Palestinian territories', 'Hong Kong SAR': 'Hong Kong SAR', 'Lao PDR': 'Lao PDR', 'Senegal': 'Senegal', 'Burundi': 'Burundi', 'Nigeria': 'Nigeria', 'UK': 'UK', 'France': 'France', 'China': 'China', 'Namibia, Republic of': 'Namibia, Republic of', 'Djibouti': 'Djibouti', 'Costa Rica': 'Costa Rica', 'Vanuatu': 'Vanuatu', 'Belgium': 'Belgium', 'Cuba': 'Cuba', 'Iraq': 'Iraq', 'Sweden': 'Sweden', 'Hong Kong': 'Hong Kong', 'Mozambique': 'Mozambique', 'Turkey': 'Turkey', 'Indonesia': 'Indonesia', 'Israel': 'Israel', 'Ghana': 'Ghana', 'Kazakhstan': 'Kazakhstan', 'South Korea': 'South Korea', 'Qatar': 'Qatar', 'Greenland': 'Greenland', 'USA': 'USA', 'Benin': 'Benin', 'Gibraltar': 'Gibraltar', 'Liechtenstein': 'Liechtenstein', 'Kyrgyzstan': 'Kyrgyzstan', 'Aruba': 'Aruba', 'Egypt': 'Egypt', 'Portugal': 'Portugal', 'Iceland': 'Iceland', 'United Kingdom': 'United Kingdom', 'Uruguay': 'Uruguay', 'Canada': 'Canada', 'Fiji': 'Fiji', 'Malaysia': 'Malaysia', 'Suriname': 'Suriname', 'Zambia': 'Zambia', 'Bermuda': 'Bermuda', 'Timor-Leste': 'Timor-Leste', 'Isle Of Man': 'Isle Of Man', 'Cape Verde': 'Cape Verde', 'Cameroon, Republic of': 'Cameroon, Republic of', 'Equatorial Guinea': 'Equatorial Guinea', 'Macau SAR': 'Macau SAR', 'Paraguay': 'Paraguay', 'Bosnia and Herzegovina': 'Bosnia and Herzegovina', 'Tunisia': 'Tunisia', 'Algeria': 'Algeria', 'United Arab Emirates': 'United Arab Emirates', 'Uzbekistan, Republic of': 'Uzbekistan, Republic of', 'Luxembourg': 'Luxembourg', 'Venezuela': 'Venezuela', 'Zimbabwe': 'Zimbabwe', 'El Salvador': 'El Salvador', 'Cabo Verde': 'Cabo Verde', 'Bolivia': 'Bolivia', 'India': 'India', 'Kenya': 'Kenya', 'Central African Republic': 'Central African Republic', 'Bulgaria': 'Bulgaria', 'China, People’s Republic of': 'China, People’s Republic of', 'Netherlands': 'Netherlands', 'Norway': 'Norway', 'Australia': 'Australia', 'Ethiopia': 'Ethiopia', 'Estonia': 'Estonia', 'Romania': 'Romania', 'Georgia': 'Georgia', 'Madagascar': 'Madagascar', 'Antigua And Barbuda': 'Antigua And Barbuda', 'Mali': 'Mali', 'Kosovo': 'Kosovo', 'Domin. Rep.': 'Domin. Rep.', 'Switzerland': 'Switzerland'}\n"
     ]
    }
   ],
   "source": [
    "# Importing rapidfuzz for string matching\n",
    "!pip install rapidfuzz\n",
    "from rapidfuzz import process, fuzz\n",
    "\n",
    "# Combine all unique country names\n",
    "all_countries = set(egg_price_table.column('Countries')).union(\n",
    "    set(tax_price_table.column('Country')), set(currency_table.column('Territory'))\n",
    ")\n",
    "\n",
    "# Empty mapping dict and threshold for matching score\n",
    "mapping = {}\n",
    "threshold = 80\n",
    "\n",
    "# Perform fuzzy matching to standardize country names\n",
    "all_countries = list(all_countries)  # Convert to a list for iteration\n",
    "for country in all_countries:\n",
    "    match = process.extractOne(country, all_countries, scorer=fuzz.token_sort_ratio)\n",
    "    if match and match[1] >= threshold:\n",
    "        # High-confidence match\n",
    "        mapping[country] = match[0]\n",
    "    else:\n",
    "        # No match or low confidence, retain original value\n",
    "        mapping[country] = country\n",
    "\n",
    "# Standardize each table using the mapping\n",
    "def standardize_country(name):\n",
    "    return mapping.get(name, name)\n",
    "\n",
    "egg_price_table = egg_price_table.with_column('Standardized_Country', egg_price_table.apply(standardize_country, 'Countries'))\n",
    "tax_price_table = tax_price_table.with_column('Standardized_Country', tax_price_table.apply(standardize_country, 'Country'))\n",
    "currency_table = currency_table.with_column('Standardized_Country', currency_table.apply(standardize_country, 'Territory'))\n",
    "\n",
    "print(\"Mapping:\", mapping)"
   ]
  },
  {
   "cell_type": "code",
   "execution_count": 22,
   "metadata": {
    "colab": {
     "base_uri": "https://localhost:8080/",
     "height": 392
    },
    "executionInfo": {
     "elapsed": 7,
     "status": "ok",
     "timestamp": 1733172288319,
     "user": {
      "displayName": "Vincent Dao",
      "userId": "14738962386097886657"
     },
     "user_tz": 420
    },
    "id": "6WOO_MmrVXJ5",
    "outputId": "1145b836-f889-4285-dd93-b640738fde0d"
   },
   "outputs": [
    {
     "data": {
      "text/html": [
       "<table border=\"1\" class=\"dataframe\">\n",
       "    <thead>\n",
       "        <tr>\n",
       "            <th>Eggs price (USD)</th> <th>Country</th>\n",
       "        </tr>\n",
       "    </thead>\n",
       "    <tbody>\n",
       "        <tr>\n",
       "            <td>3.48            </td> <td>Argentina </td>\n",
       "        </tr>\n",
       "        <tr>\n",
       "            <td>5.08            </td> <td>Australia </td>\n",
       "        </tr>\n",
       "        <tr>\n",
       "            <td>3.81            </td> <td>Austria   </td>\n",
       "        </tr>\n",
       "        <tr>\n",
       "            <td>1.59            </td> <td>Azerbaijan</td>\n",
       "        </tr>\n",
       "        <tr>\n",
       "            <td>1.26            </td> <td>Bangladesh</td>\n",
       "        </tr>\n",
       "        <tr>\n",
       "            <td>4.12            </td> <td>Belgium   </td>\n",
       "        </tr>\n",
       "        <tr>\n",
       "            <td>1.87            </td> <td>Bolivia   </td>\n",
       "        </tr>\n",
       "        <tr>\n",
       "            <td>2.18            </td> <td>Brazil    </td>\n",
       "        </tr>\n",
       "        <tr>\n",
       "            <td>4.87            </td> <td>Bulgaria  </td>\n",
       "        </tr>\n",
       "        <tr>\n",
       "            <td>1.94            </td> <td>Cameroon  </td>\n",
       "        </tr>\n",
       "    </tbody>\n",
       "</table>\n",
       "<p>... (71 rows omitted)</p>"
      ],
      "text/plain": [
       "Eggs price (USD) | Country\n",
       "3.48             | Argentina\n",
       "5.08             | Australia\n",
       "3.81             | Austria\n",
       "1.59             | Azerbaijan\n",
       "1.26             | Bangladesh\n",
       "4.12             | Belgium\n",
       "1.87             | Bolivia\n",
       "2.18             | Brazil\n",
       "4.87             | Bulgaria\n",
       "1.94             | Cameroon\n",
       "... (71 rows omitted)"
      ]
     },
     "execution_count": 22,
     "metadata": {},
     "output_type": "execute_result"
    }
   ],
   "source": [
    "# Cleaning and formatting egg prices table\n",
    "egg_price_table = egg_price_table.drop(['Countries', 'Rank'])\n",
    "egg_price_table = egg_price_table.relabeled('Standardized_Country', 'Country')\n",
    "egg_price_table = egg_price_table.relabeled('Eggs prices, dozen', 'Eggs price (USD)')\n",
    "\n",
    "egg_price_table"
   ]
  },
  {
   "cell_type": "code",
   "execution_count": 23,
   "metadata": {
    "colab": {
     "base_uri": "https://localhost:8080/",
     "height": 392
    },
    "executionInfo": {
     "elapsed": 6,
     "status": "ok",
     "timestamp": 1733172288319,
     "user": {
      "displayName": "Vincent Dao",
      "userId": "14738962386097886657"
     },
     "user_tz": 420
    },
    "id": "VfqSzca5VXJ6",
    "outputId": "f8867274-19eb-47dd-a667-e531c9ae2290"
   },
   "outputs": [
    {
     "data": {
      "text/html": [
       "<table border=\"1\" class=\"dataframe\">\n",
       "    <thead>\n",
       "        <tr>\n",
       "            <th>Tax  Rate (%)</th> <th>Country</th>\n",
       "        </tr>\n",
       "    </thead>\n",
       "    <tbody>\n",
       "        <tr>\n",
       "            <td>10           </td> <td>Afghanistan        </td>\n",
       "        </tr>\n",
       "        <tr>\n",
       "            <td>20           </td> <td>Albania            </td>\n",
       "        </tr>\n",
       "        <tr>\n",
       "            <td>19           </td> <td>Algeria            </td>\n",
       "        </tr>\n",
       "        <tr>\n",
       "            <td>4.5          </td> <td>Andorra            </td>\n",
       "        </tr>\n",
       "        <tr>\n",
       "            <td>14           </td> <td>Angola             </td>\n",
       "        </tr>\n",
       "        <tr>\n",
       "            <td>15           </td> <td>Antigua And Barbuda</td>\n",
       "        </tr>\n",
       "        <tr>\n",
       "            <td>21           </td> <td>Argentina          </td>\n",
       "        </tr>\n",
       "        <tr>\n",
       "            <td>20           </td> <td>Armenia            </td>\n",
       "        </tr>\n",
       "        <tr>\n",
       "            <td>4            </td> <td>Aruba              </td>\n",
       "        </tr>\n",
       "        <tr>\n",
       "            <td>10           </td> <td>Australia          </td>\n",
       "        </tr>\n",
       "    </tbody>\n",
       "</table>\n",
       "<p>... (169 rows omitted)</p>"
      ],
      "text/plain": [
       "Tax  Rate (%) | Country\n",
       "10            | Afghanistan\n",
       "20            | Albania\n",
       "19            | Algeria\n",
       "4.5           | Andorra\n",
       "14            | Angola\n",
       "15            | Antigua And Barbuda\n",
       "21            | Argentina\n",
       "20            | Armenia\n",
       "4             | Aruba\n",
       "10            | Australia\n",
       "... (169 rows omitted)"
      ]
     },
     "execution_count": 23,
     "metadata": {},
     "output_type": "execute_result"
    }
   ],
   "source": [
    "# Cleaning and formatting tax prices table\n",
    "tax_price_table = tax_price_table.drop(['Country', 'Previous', 'Reference', 'Unit'])\n",
    "tax_price_table = tax_price_table.relabeled('Standardized_Country', 'Country')\n",
    "tax_price_table = tax_price_table.relabeled('Last', 'Tax  Rate (%)')\n",
    "\n",
    "tax_price_table"
   ]
  },
  {
   "cell_type": "code",
   "execution_count": 24,
   "metadata": {
    "colab": {
     "base_uri": "https://localhost:8080/",
     "height": 392
    },
    "executionInfo": {
     "elapsed": 6,
     "status": "ok",
     "timestamp": 1733172288319,
     "user": {
      "displayName": "Vincent Dao",
      "userId": "14738962386097886657"
     },
     "user_tz": 420
    },
    "id": "SRdeCJVOVXJ6",
    "outputId": "63ca55eb-3b0e-4042-90ef-a82b768ec513"
   },
   "outputs": [
    {
     "data": {
      "text/html": [
       "<table border=\"1\" class=\"dataframe\">\n",
       "    <thead>\n",
       "        <tr>\n",
       "            <th>Currency</th> <th>Country</th>\n",
       "        </tr>\n",
       "    </thead>\n",
       "    <tbody>\n",
       "        <tr>\n",
       "            <td>ALL     </td> <td>Albania   </td>\n",
       "        </tr>\n",
       "        <tr>\n",
       "            <td>DZD     </td> <td>Algeria   </td>\n",
       "        </tr>\n",
       "        <tr>\n",
       "            <td>AOA     </td> <td>Angola    </td>\n",
       "        </tr>\n",
       "        <tr>\n",
       "            <td>ARS     </td> <td>Argentina </td>\n",
       "        </tr>\n",
       "        <tr>\n",
       "            <td>AMD     </td> <td>Armenia   </td>\n",
       "        </tr>\n",
       "        <tr>\n",
       "            <td>AUD     </td> <td>Australia </td>\n",
       "        </tr>\n",
       "        <tr>\n",
       "            <td>EUR     </td> <td>Austria   </td>\n",
       "        </tr>\n",
       "        <tr>\n",
       "            <td>AZN     </td> <td>Azerbaijan</td>\n",
       "        </tr>\n",
       "        <tr>\n",
       "            <td>BHD     </td> <td>Bahrain   </td>\n",
       "        </tr>\n",
       "        <tr>\n",
       "            <td>BBD     </td> <td>Barbados  </td>\n",
       "        </tr>\n",
       "    </tbody>\n",
       "</table>\n",
       "<p>... (144 rows omitted)</p>"
      ],
      "text/plain": [
       "Currency | Country\n",
       "ALL      | Albania\n",
       "DZD      | Algeria\n",
       "AOA      | Angola\n",
       "ARS      | Argentina\n",
       "AMD      | Armenia\n",
       "AUD      | Australia\n",
       "EUR      | Austria\n",
       "AZN      | Azerbaijan\n",
       "BHD      | Bahrain\n",
       "BBD      | Barbados\n",
       "... (144 rows omitted)"
      ]
     },
     "execution_count": 24,
     "metadata": {},
     "output_type": "execute_result"
    }
   ],
   "source": [
    "# Cleaning and formatting currencies table\n",
    "currency_table = currency_table.drop(['Territory', 'Currency name'])\n",
    "currency_table = currency_table.relabeled('Currency code (ISO 4217)', 'Currency')\n",
    "currency_table = currency_table.relabeled('Standardized_Country', 'Country')\n",
    "\n",
    "currency_table"
   ]
  },
  {
   "cell_type": "code",
   "execution_count": 25,
   "metadata": {
    "colab": {
     "base_uri": "https://localhost:8080/",
     "height": 235
    },
    "executionInfo": {
     "elapsed": 193,
     "status": "ok",
     "timestamp": 1733172288507,
     "user": {
      "displayName": "Vincent Dao",
      "userId": "14738962386097886657"
     },
     "user_tz": 420
    },
    "id": "FebE2XUyVXJ6",
    "outputId": "a82d16e7-ecfc-4f7a-933d-b0c8e894e57e"
   },
   "outputs": [
    {
     "data": {
      "text/html": [
       "<table border=\"1\" class=\"dataframe\">\n",
       "    <thead>\n",
       "        <tr>\n",
       "            <th>Country</th> <th>Eggs price (USD)</th> <th>Tax  Rate (%)</th> <th>Currency</th>\n",
       "        </tr>\n",
       "    </thead>\n",
       "    <tbody>\n",
       "        <tr>\n",
       "            <td>Argentina </td> <td>3.48            </td> <td>21           </td> <td>ARS     </td>\n",
       "        </tr>\n",
       "        <tr>\n",
       "            <td>Australia </td> <td>5.08            </td> <td>10           </td> <td>AUD     </td>\n",
       "        </tr>\n",
       "        <tr>\n",
       "            <td>Austria   </td> <td>3.81            </td> <td>20           </td> <td>EUR     </td>\n",
       "        </tr>\n",
       "        <tr>\n",
       "            <td>Azerbaijan</td> <td>1.59            </td> <td>18           </td> <td>AZN     </td>\n",
       "        </tr>\n",
       "        <tr>\n",
       "            <td>Belgium   </td> <td>4.12            </td> <td>21           </td> <td>EUR     </td>\n",
       "        </tr>\n",
       "    </tbody>\n",
       "</table>\n",
       "<p>... (61 rows omitted)</p>"
      ],
      "text/plain": [
       "<IPython.core.display.HTML object>"
      ]
     },
     "metadata": {},
     "output_type": "display_data"
    }
   ],
   "source": [
    "# Merging final tables for vizualization\n",
    "data_merged = egg_price_table.join(\"Country\", tax_price_table)\n",
    "data = data_merged.join(\"Country\", currency_table)\n",
    "\n",
    "data.show(5)"
   ]
  },
  {
   "cell_type": "code",
   "execution_count": 26,
   "metadata": {
    "colab": {
     "base_uri": "https://localhost:8080/",
     "height": 235
    },
    "executionInfo": {
     "elapsed": 7,
     "status": "ok",
     "timestamp": 1733172288507,
     "user": {
      "displayName": "Vincent Dao",
      "userId": "14738962386097886657"
     },
     "user_tz": 420
    },
    "id": "d2v7APhjVXJ6",
    "outputId": "2efdc6f8-d939-4f8b-e758-b54ca80369ad"
   },
   "outputs": [
    {
     "data": {
      "text/html": [
       "<table border=\"1\" class=\"dataframe\">\n",
       "    <thead>\n",
       "        <tr>\n",
       "            <th>Country</th> <th>Eggs price (USD)</th> <th>Tax  Rate (%)</th> <th>Currency</th> <th>Difference</th>\n",
       "        </tr>\n",
       "    </thead>\n",
       "    <tbody>\n",
       "        <tr>\n",
       "            <td>Argentina </td> <td>3.48            </td> <td>21           </td> <td>ARS     </td> <td>0.69      </td>\n",
       "        </tr>\n",
       "        <tr>\n",
       "            <td>Australia </td> <td>5.08            </td> <td>10           </td> <td>AUD     </td> <td>2.29      </td>\n",
       "        </tr>\n",
       "        <tr>\n",
       "            <td>Austria   </td> <td>3.81            </td> <td>20           </td> <td>EUR     </td> <td>1.02      </td>\n",
       "        </tr>\n",
       "        <tr>\n",
       "            <td>Azerbaijan</td> <td>1.59            </td> <td>18           </td> <td>AZN     </td> <td>-1.2      </td>\n",
       "        </tr>\n",
       "        <tr>\n",
       "            <td>Belgium   </td> <td>4.12            </td> <td>21           </td> <td>EUR     </td> <td>1.33      </td>\n",
       "        </tr>\n",
       "    </tbody>\n",
       "</table>\n",
       "<p>... (61 rows omitted)</p>"
      ],
      "text/plain": [
       "<IPython.core.display.HTML object>"
      ]
     },
     "metadata": {},
     "output_type": "display_data"
    }
   ],
   "source": [
    "egg_price_cad = 2.79 # Price extracted from egg prices url\n",
    "\n",
    "data = data.with_columns('Difference', data.column(\"Eggs price (USD)\") - egg_price_cad)\n",
    "\n",
    "data.show(5)"
   ]
  },
  {
   "cell_type": "markdown",
   "metadata": {
    "id": "02Nkb5baGWnn"
   },
   "source": [
    "<h1>3. VISUALIZATION<h1>"
   ]
  },
  {
   "cell_type": "markdown",
   "metadata": {
    "id": "9g3rdCSzSipj"
   },
   "source": [
    "**External Factor**"
   ]
  },
  {
   "cell_type": "code",
   "execution_count": 93,
   "metadata": {
    "colab": {
     "base_uri": "https://localhost:8080/",
     "height": 80
    },
    "executionInfo": {
     "elapsed": 178,
     "status": "ok",
     "timestamp": 1733177132264,
     "user": {
      "displayName": "Vincent Dao",
      "userId": "14738962386097886657"
     },
     "user_tz": 420
    },
    "id": "tthRa8LmJoQZ",
    "outputId": "79d7ff46-863b-4581-d9ea-0e9c5e40d4de"
   },
   "outputs": [
    {
     "data": {
      "text/html": [
       "<table border=\"1\" class=\"dataframe\">\n",
       "    <thead>\n",
       "        <tr>\n",
       "            <th>Country</th> <th>Electricity Cost (USD/kWh) - 03/2024</th>\n",
       "        </tr>\n",
       "    </thead>\n",
       "    <tbody>\n",
       "        <tr>\n",
       "            <td>Canada </td> <td>0.126                               </td>\n",
       "        </tr>\n",
       "    </tbody>\n",
       "</table>"
      ],
      "text/plain": [
       "Country | Electricity Cost (USD/kWh) - 03/2024\n",
       "Canada  | 0.126"
      ]
     },
     "execution_count": 93,
     "metadata": {},
     "output_type": "execute_result"
    }
   ],
   "source": [
    "#Cleaning Electricity Data\n",
    "electricity_url = 'https://raw.githubusercontent.com/hoangr1010/CMPUT-191---A3/refs/heads/main/data/cost-of-electricity-by-country-2024.csv'\n",
    "electricity_data = Table.read_table(electricity_url)\n",
    "electricity_data = electricity_data.drop(\"CostOfElectricity_ElectricityCost_USDPerkWh_2023March\", \"CostOfElectricity_ElectricityCost_USDPerkWh_2022Sept\")\n",
    "electricity_data = electricity_data.relabeled(\"CostOfElectricity_ElectricityCost_USDPerkWh_2024March\", \"Electricity Cost (USD/kWh) - 03/2024\")\n",
    "electricity_data = electricity_data.relabeled(\"country\", \"Country\")\n",
    "electricity_data.where('Country', are.equal_to('Canada'))\n",
    "# Canadian Electricity Cost is 0.126\n"
   ]
  },
  {
   "cell_type": "code",
   "execution_count": 94,
   "metadata": {
    "colab": {
     "base_uri": "https://localhost:8080/",
     "height": 235
    },
    "executionInfo": {
     "elapsed": 186,
     "status": "ok",
     "timestamp": 1733177134383,
     "user": {
      "displayName": "Vincent Dao",
      "userId": "14738962386097886657"
     },
     "user_tz": 420
    },
    "id": "-B8MOwOzXVm4",
    "outputId": "3a8a6d21-4a5e-442d-a2a0-b4b70c96d9f1"
   },
   "outputs": [
    {
     "data": {
      "text/html": [
       "<table border=\"1\" class=\"dataframe\">\n",
       "    <thead>\n",
       "        <tr>\n",
       "            <th>Country</th> <th>Electricity Cost (USD/kWh) - 03/2024</th>\n",
       "        </tr>\n",
       "    </thead>\n",
       "    <tbody>\n",
       "        <tr>\n",
       "            <td>Argentina </td> <td>0.02                                </td>\n",
       "        </tr>\n",
       "        <tr>\n",
       "            <td>Australia </td> <td>0.273                               </td>\n",
       "        </tr>\n",
       "        <tr>\n",
       "            <td>Austria   </td> <td>0.36                                </td>\n",
       "        </tr>\n",
       "        <tr>\n",
       "            <td>Azerbaijan</td> <td>0.047                               </td>\n",
       "        </tr>\n",
       "        <tr>\n",
       "            <td>Belgium   </td> <td>0.365                               </td>\n",
       "        </tr>\n",
       "    </tbody>\n",
       "</table>\n",
       "<p>... (59 rows omitted)</p>"
      ],
      "text/plain": [
       "<IPython.core.display.HTML object>"
      ]
     },
     "metadata": {},
     "output_type": "display_data"
    }
   ],
   "source": [
    "#Filter countries in data\n",
    "electricity_data = electricity_data.where('Country', are.contained_in(data.column('Country'))).sort(\"Country\")\n",
    "data = data.where('Country', are.not_equal_to('Canada'))\n",
    "data_countries = np.unique(data.column('Country'))\n",
    "electricity_countries = np.unique(electricity_data.column('Country'))\n",
    "missing_countries = np.setdiff1d(data_countries, electricity_countries)\n",
    "data = data.where('Country', are.not_contained_in(missing_countries))\n",
    "electricity_data.show(5)"
   ]
  },
  {
   "cell_type": "code",
   "execution_count": 96,
   "metadata": {
    "colab": {
     "base_uri": "https://localhost:8080/",
     "height": 1000
    },
    "executionInfo": {
     "elapsed": 273,
     "status": "ok",
     "timestamp": 1733177140390,
     "user": {
      "displayName": "Vincent Dao",
      "userId": "14738962386097886657"
     },
     "user_tz": 420
    },
    "id": "Zw7RH4yRYDAd",
    "outputId": "ddf992cb-19a6-4638-af0b-acee7a3e9879"
   },
   "outputs": [
    {
     "data": {
      "text/html": [
       "<table border=\"1\" class=\"dataframe\">\n",
       "    <thead>\n",
       "        <tr>\n",
       "            <th>Country</th> <th>Eggs price (USD)</th> <th>Tax  Rate (%)</th> <th>Currency</th> <th>Difference</th> <th>Difference(untaxed)</th> <th>Electric Cost Difference (USD/KWH)</th>\n",
       "        </tr>\n",
       "    </thead>\n",
       "    <tbody>\n",
       "        <tr>\n",
       "            <td>Argentina   </td> <td>3.48            </td> <td>21           </td> <td>ARS     </td> <td>0.69      </td> <td>0.57               </td> <td>-0.106                            </td>\n",
       "        </tr>\n",
       "        <tr>\n",
       "            <td>Australia   </td> <td>5.08            </td> <td>10           </td> <td>AUD     </td> <td>2.29      </td> <td>2.08               </td> <td>0.147                             </td>\n",
       "        </tr>\n",
       "        <tr>\n",
       "            <td>Austria     </td> <td>3.81            </td> <td>20           </td> <td>EUR     </td> <td>1.02      </td> <td>0.85               </td> <td>0.234                             </td>\n",
       "        </tr>\n",
       "        <tr>\n",
       "            <td>Azerbaijan  </td> <td>1.59            </td> <td>18           </td> <td>AZN     </td> <td>-1.2      </td> <td>-1.02              </td> <td>-0.079                            </td>\n",
       "        </tr>\n",
       "        <tr>\n",
       "            <td>Belgium     </td> <td>4.12            </td> <td>21           </td> <td>EUR     </td> <td>1.33      </td> <td>1.1                </td> <td>0.239                             </td>\n",
       "        </tr>\n",
       "        <tr>\n",
       "            <td>Brazil      </td> <td>2.18            </td> <td>17           </td> <td>BRL     </td> <td>-0.61     </td> <td>-0.52              </td> <td>0.028                             </td>\n",
       "        </tr>\n",
       "        <tr>\n",
       "            <td>Bulgaria    </td> <td>4.87            </td> <td>20           </td> <td>BGN     </td> <td>2.08      </td> <td>1.73               </td> <td>0.021                             </td>\n",
       "        </tr>\n",
       "        <tr>\n",
       "            <td>Chile       </td> <td>3.62            </td> <td>19           </td> <td>CLP     </td> <td>0.83      </td> <td>0.7                </td> <td>0.048                             </td>\n",
       "        </tr>\n",
       "        <tr>\n",
       "            <td>Colombia    </td> <td>2.47            </td> <td>19           </td> <td>COP     </td> <td>-0.32     </td> <td>-0.27              </td> <td>0.085                             </td>\n",
       "        </tr>\n",
       "        <tr>\n",
       "            <td>Costa Rica  </td> <td>2.6             </td> <td>13           </td> <td>CRC     </td> <td>-0.19     </td> <td>-0.17              </td> <td>0.049                             </td>\n",
       "        </tr>\n",
       "        <tr>\n",
       "            <td>Croatia     </td> <td>3.07            </td> <td>25           </td> <td>HRK     </td> <td>0.28      </td> <td>0.22               </td> <td>0.041                             </td>\n",
       "        </tr>\n",
       "        <tr>\n",
       "            <td>Denmark     </td> <td>3.97            </td> <td>25           </td> <td>DKK     </td> <td>1.18      </td> <td>0.94               </td> <td>0.258                             </td>\n",
       "        </tr>\n",
       "        <tr>\n",
       "            <td>Ecuador     </td> <td>2.3             </td> <td>12           </td> <td>USD     </td> <td>-0.49     </td> <td>-0.44              </td> <td>-0.029                            </td>\n",
       "        </tr>\n",
       "        <tr>\n",
       "            <td>Egypt       </td> <td>1.84            </td> <td>14           </td> <td>EGP     </td> <td>-0.95     </td> <td>-0.83              </td> <td>-0.107                            </td>\n",
       "        </tr>\n",
       "        <tr>\n",
       "            <td>Finland     </td> <td>3.49            </td> <td>24           </td> <td>EUR     </td> <td>0.7       </td> <td>0.56               </td> <td>0.06                              </td>\n",
       "        </tr>\n",
       "        <tr>\n",
       "            <td>France      </td> <td>3.91            </td> <td>20           </td> <td>EUR     </td> <td>1.12      </td> <td>0.93               </td> <td>0.189                             </td>\n",
       "        </tr>\n",
       "        <tr>\n",
       "            <td>Germany     </td> <td>4.23            </td> <td>19           </td> <td>EUR     </td> <td>1.44      </td> <td>1.21               </td> <td>0.239                             </td>\n",
       "        </tr>\n",
       "        <tr>\n",
       "            <td>Ghana       </td> <td>3.07            </td> <td>15           </td> <td>GHS     </td> <td>0.28      </td> <td>0.24               </td> <td>-0.018                            </td>\n",
       "        </tr>\n",
       "        <tr>\n",
       "            <td>Greece      </td> <td>3.28            </td> <td>24           </td> <td>EUR     </td> <td>0.49      </td> <td>0.4                </td> <td>0.097                             </td>\n",
       "        </tr>\n",
       "        <tr>\n",
       "            <td>Guatemala   </td> <td>2.08            </td> <td>12           </td> <td>GTQ     </td> <td>-0.71     </td> <td>-0.63              </td> <td>0.172                             </td>\n",
       "        </tr>\n",
       "        <tr>\n",
       "            <td>Hungary     </td> <td>2.45            </td> <td>27           </td> <td>HUF     </td> <td>-0.34     </td> <td>-0.27              </td> <td>-0.017                            </td>\n",
       "        </tr>\n",
       "        <tr>\n",
       "            <td>India       </td> <td>1.66            </td> <td>18           </td> <td>INR     </td> <td>-1.13     </td> <td>-0.96              </td> <td>-0.049                            </td>\n",
       "        </tr>\n",
       "        <tr>\n",
       "            <td>Indonesia   </td> <td>1.74            </td> <td>11           </td> <td>IDR     </td> <td>-1.05     </td> <td>-0.95              </td> <td>-0.031                            </td>\n",
       "        </tr>\n",
       "        <tr>\n",
       "            <td>Ireland     </td> <td>4.12            </td> <td>23           </td> <td>EUR     </td> <td>1.33      </td> <td>1.08               </td> <td>0.313                             </td>\n",
       "        </tr>\n",
       "        <tr>\n",
       "            <td>Israel      </td> <td>3.55            </td> <td>17           </td> <td>ILS     </td> <td>0.76      </td> <td>0.65               </td> <td>0.047                             </td>\n",
       "        </tr>\n",
       "        <tr>\n",
       "            <td>Italy       </td> <td>3.38            </td> <td>22           </td> <td>EUR     </td> <td>0.59      </td> <td>0.48               </td> <td>0.331                             </td>\n",
       "        </tr>\n",
       "        <tr>\n",
       "            <td>Japan       </td> <td>3.85            </td> <td>10           </td> <td>JPY     </td> <td>1.06      </td> <td>0.96               </td> <td>0.095                             </td>\n",
       "        </tr>\n",
       "        <tr>\n",
       "            <td>Jordan      </td> <td>2.68            </td> <td>16           </td> <td>JOD     </td> <td>-0.11     </td> <td>-0.09              </td> <td>-0.036                            </td>\n",
       "        </tr>\n",
       "        <tr>\n",
       "            <td>Kazakhstan  </td> <td>1.65            </td> <td>12           </td> <td>KZT     </td> <td>-1.14     </td> <td>-1.02              </td> <td>-0.076                            </td>\n",
       "        </tr>\n",
       "        <tr>\n",
       "            <td>Kenya       </td> <td>2.43            </td> <td>16           </td> <td>KES     </td> <td>-0.36     </td> <td>-0.31              </td> <td>0.13                              </td>\n",
       "        </tr>\n",
       "        <tr>\n",
       "            <td>Latvia      </td> <td>3.28            </td> <td>21           </td> <td>EUR     </td> <td>0.49      </td> <td>0.4                </td> <td>0.13                              </td>\n",
       "        </tr>\n",
       "        <tr>\n",
       "            <td>Lithuania   </td> <td>3.17            </td> <td>21           </td> <td>EUR     </td> <td>0.38      </td> <td>0.31               </td> <td>0.141                             </td>\n",
       "        </tr>\n",
       "        <tr>\n",
       "            <td>Malaysia    </td> <td>2.32            </td> <td>10           </td> <td>MYR     </td> <td>-0.47     </td> <td>-0.43              </td> <td>-0.072                            </td>\n",
       "        </tr>\n",
       "        <tr>\n",
       "            <td>Mexico      </td> <td>2.45            </td> <td>16           </td> <td>MXN     </td> <td>-0.34     </td> <td>-0.29              </td> <td>-0.026                            </td>\n",
       "        </tr>\n",
       "        <tr>\n",
       "            <td>Morocco     </td> <td>3.25            </td> <td>20           </td> <td>MAD     </td> <td>0.46      </td> <td>0.38               </td> <td>-0.005                            </td>\n",
       "        </tr>\n",
       "        <tr>\n",
       "            <td>Netherlands </td> <td>2.75            </td> <td>21           </td> <td>EUR     </td> <td>-0.04     </td> <td>-0.03              </td> <td>0.14                              </td>\n",
       "        </tr>\n",
       "        <tr>\n",
       "            <td>New Zealand </td> <td>6.8             </td> <td>15           </td> <td>NZD     </td> <td>4.01      </td> <td>3.49               </td> <td>0.094                             </td>\n",
       "        </tr>\n",
       "        <tr>\n",
       "            <td>Nigeria     </td> <td>2.17            </td> <td>7.5          </td> <td>NGN     </td> <td>-0.62     </td> <td>-0.58              </td> <td>-0.112                            </td>\n",
       "        </tr>\n",
       "        <tr>\n",
       "            <td>Norway      </td> <td>5.43            </td> <td>25           </td> <td>NOK     </td> <td>2.64      </td> <td>2.11               </td> <td>0.046                             </td>\n",
       "        </tr>\n",
       "        <tr>\n",
       "            <td>Pakistan    </td> <td>1.48            </td> <td>18           </td> <td>PKR     </td> <td>-1.31     </td> <td>-1.11              </td> <td>-0.056                            </td>\n",
       "        </tr>\n",
       "        <tr>\n",
       "            <td>Paraguay    </td> <td>1.67            </td> <td>10           </td> <td>PYG     </td> <td>-1.12     </td> <td>-1.02              </td> <td>-0.074                            </td>\n",
       "        </tr>\n",
       "        <tr>\n",
       "            <td>Peru        </td> <td>2.35            </td> <td>18           </td> <td>PEN     </td> <td>-0.44     </td> <td>-0.37              </td> <td>0.061                             </td>\n",
       "        </tr>\n",
       "        <tr>\n",
       "            <td>Philippines </td> <td>2.18            </td> <td>12           </td> <td>PHP     </td> <td>-0.61     </td> <td>-0.54              </td> <td>0.076                             </td>\n",
       "        </tr>\n",
       "        <tr>\n",
       "            <td>Poland      </td> <td>2.95            </td> <td>23           </td> <td>PLN     </td> <td>0.16      </td> <td>0.13               </td> <td>0.115                             </td>\n",
       "        </tr>\n",
       "        <tr>\n",
       "            <td>Portugal    </td> <td>2.54            </td> <td>23           </td> <td>EUR     </td> <td>-0.25     </td> <td>-0.2               </td> <td>0.108                             </td>\n",
       "        </tr>\n",
       "        <tr>\n",
       "            <td>Romania     </td> <td>3.54            </td> <td>19           </td> <td>RON     </td> <td>0.75      </td> <td>0.63               </td> <td>0.053                             </td>\n",
       "        </tr>\n",
       "        <tr>\n",
       "            <td>Saudi Arabia</td> <td>2.1             </td> <td>15           </td> <td>SAR     </td> <td>-0.69     </td> <td>-0.6               </td> <td>-0.073                            </td>\n",
       "        </tr>\n",
       "        <tr>\n",
       "            <td>Serbia      </td> <td>3.58            </td> <td>20           </td> <td>RSD     </td> <td>0.79      </td> <td>0.66               </td> <td>0.008                             </td>\n",
       "        </tr>\n",
       "        <tr>\n",
       "            <td>Singapore   </td> <td>2.54            </td> <td>7            </td> <td>SGD     </td> <td>-0.25     </td> <td>-0.23              </td> <td>0.128                             </td>\n",
       "        </tr>\n",
       "        <tr>\n",
       "            <td>Slovenia    </td> <td>2.54            </td> <td>22           </td> <td>EUR     </td> <td>-0.25     </td> <td>-0.2               </td> <td>0.116                             </td>\n",
       "        </tr>\n",
       "        <tr>\n",
       "            <td>South Africa</td> <td>2.94            </td> <td>15           </td> <td>ZAR     </td> <td>0.15      </td> <td>0.13               </td> <td>0.065                             </td>\n",
       "        </tr>\n",
       "        <tr>\n",
       "            <td>Spain       </td> <td>2.33            </td> <td>21           </td> <td>EUR     </td> <td>-0.46     </td> <td>-0.38              </td> <td>0.1                               </td>\n",
       "        </tr>\n",
       "        <tr>\n",
       "            <td>Sri Lanka   </td> <td>2.07            </td> <td>18           </td> <td>LKR     </td> <td>-0.72     </td> <td>-0.61              </td> <td>0.055                             </td>\n",
       "        </tr>\n",
       "        <tr>\n",
       "            <td>Sweden      </td> <td>4.39            </td> <td>25           </td> <td>SEK     </td> <td>1.6       </td> <td>1.28               </td> <td>0.098                             </td>\n",
       "        </tr>\n",
       "        <tr>\n",
       "            <td>Switzerland </td> <td>5.9             </td> <td>8.1          </td> <td>CHF     </td> <td>3.11      </td> <td>2.88               </td> <td>0.278                             </td>\n",
       "        </tr>\n",
       "        <tr>\n",
       "            <td>Tanzania    </td> <td>2.43            </td> <td>18           </td> <td>TZS     </td> <td>-0.36     </td> <td>-0.31              </td> <td>-0.042                            </td>\n",
       "        </tr>\n",
       "        <tr>\n",
       "            <td>Thailand    </td> <td>2.33            </td> <td>7            </td> <td>THB     </td> <td>-0.46     </td> <td>-0.43              </td> <td>0.007                             </td>\n",
       "        </tr>\n",
       "        <tr>\n",
       "            <td>Tunisia     </td> <td>2.07            </td> <td>19           </td> <td>TND     </td> <td>-0.72     </td> <td>-0.61              </td> <td>-0.057                            </td>\n",
       "        </tr>\n",
       "        <tr>\n",
       "            <td>Turkey      </td> <td>2.07            </td> <td>20           </td> <td>TRY     </td> <td>-0.72     </td> <td>-0.6               </td> <td>-0.078                            </td>\n",
       "        </tr>\n",
       "        <tr>\n",
       "            <td>Uganda      </td> <td>1.94            </td> <td>18           </td> <td>UGX     </td> <td>-0.85     </td> <td>-0.72              </td> <td>0.047                             </td>\n",
       "        </tr>\n",
       "        <tr>\n",
       "            <td>Ukraine     </td> <td>1.59            </td> <td>20           </td> <td>UAH     </td> <td>-1.2      </td> <td>-1                 </td> <td>-0.062                            </td>\n",
       "        </tr>\n",
       "        <tr>\n",
       "            <td>Uruguay     </td> <td>5.4             </td> <td>22           </td> <td>UYU     </td> <td>2.61      </td> <td>2.14               </td> <td>0.117                             </td>\n",
       "        </tr>\n",
       "        <tr>\n",
       "            <td>Vietnam     </td> <td>2.18            </td> <td>10           </td> <td>VND     </td> <td>-0.61     </td> <td>-0.55              </td> <td>-0.05                             </td>\n",
       "        </tr>\n",
       "        <tr>\n",
       "            <td>Zambia      </td> <td>1.24            </td> <td>16           </td> <td>ZMW     </td> <td>-1.55     </td> <td>-1.34              </td> <td>-0.105                            </td>\n",
       "        </tr>\n",
       "    </tbody>\n",
       "</table>"
      ],
      "text/plain": [
       "<IPython.core.display.HTML object>"
      ]
     },
     "metadata": {},
     "output_type": "display_data"
    }
   ],
   "source": [
    "#Add electric cost difference column to data\n",
    "data = data.with_column('Electric Cost Difference (USD/KWH)', electricity_data.column(\"Electricity Cost (USD/kWh) - 03/2024\") - 0.126)\n",
    "data.show()"
   ]
  },
  {
   "cell_type": "markdown",
   "metadata": {
    "id": "1B9anolSTgsj"
   },
   "source": [
    "**Visualize**"
   ]
  },
  {
   "cell_type": "code",
   "execution_count": 101,
   "metadata": {
    "colab": {
     "base_uri": "https://localhost:8080/",
     "height": 462
    },
    "executionInfo": {
     "elapsed": 2223,
     "status": "ok",
     "timestamp": 1733177411389,
     "user": {
      "displayName": "Vincent Dao",
      "userId": "14738962386097886657"
     },
     "user_tz": 420
    },
    "id": "f6sEHSpSY2nz",
    "outputId": "328bd8cc-8548-4f8c-d8ec-6b5078a6b3fd"
   },
   "outputs": [
    {
     "data": {
      "image/png": "[encoded data removed]",
      "text/plain": [
       "<Figure size 2000x1200 with 1 Axes>"
      ]
     },
     "metadata": {},
     "output_type": "display_data"
    }
   ],
   "source": [
    "import matplotlib.pyplot as plt\n",
    "\n",
    "data = data.with_column(\"Difference(untaxed)\", (data.column(\"Difference\") / (1 + data.column(\"Tax  Rate (%)\")/100)).round(2))\n",
    "countries = data.column('Country')\n",
    "num_countries = len(countries)\n",
    "\n",
    "# Adjust figure size\n",
    "plt.figure(figsize=(20, 12))  # Width = 16, Height = 8\n",
    "\n",
    "# Create a list of colors for each country\n",
    "colors1 = ['red' if diff < 0 else 'green' for diff in data.column('Difference(untaxed)')]\n",
    "colors2 = ['salmon' if diff < 0 else 'limegreen' for diff in data.column('Difference')]\n",
    "# Create the bar chart with custom colors\n",
    "bars1 = plt.bar(countries, data.column('Difference(untaxed)'), color=colors1)\n",
    "bars2 = plt.bar(countries, data.column('Difference') - data.column(\"Difference(untaxed)\"), bottom=data.column('Difference(untaxed)'), color= colors2)\n",
    "\n",
    "# Create the scatter plot\n",
    "plt.scatter(countries, data.column(\"Electric Cost Difference (USD/KWH)\"), marker='o', color='blue')\n",
    "\n",
    "# Set x-axis labels and rotate them for better readability\n",
    "plt.xticks(ticks=range(len(countries)), labels=countries, rotation=90, ha='center', fontsize=12)\n",
    "\n",
    "# Add labels and title\n",
    "plt.xlabel('Country')\n",
    "plt.ylabel('Difference in Egg price (CAD)')\n",
    "plt.title('Difference in Egg Prices Compared to CAD 2.79')\n",
    "\n",
    "\n",
    "# Create proxy artists for the legend (red and green rectangles)\n",
    "green_patch = plt.Rectangle((0, 0), 1, 1, color='green')\n",
    "lime_patch = plt.Rectangle((0, 0), 1, 1, color='limegreen')\n",
    "red_patch = plt.Rectangle((0, 0), 1, 1, color='red')\n",
    "salmon_patch = plt.Rectangle((0, 0), 1, 1, color='salmon')\n",
    "blue_patch = plt.Rectangle((0, 0), 1, 1, color='blue')\n",
    "\n",
    "\n",
    "# Add the legend using the proxy artists and labels\n",
    "plt.legend([green_patch,lime_patch,red_patch,salmon_patch,blue_patch], ['Higher than Canada(untaxed)','Higher than Canada(taxed)','Lower than Canada(untaxed)','Lower than Canada(taxed)', \"Electric Cost Difference 03/2024\"])\n",
    "# Display the chart\n",
    "plt.show()"
   ]
  }
 ],
 "metadata": {
  "colab": {
   "provenance": []
  },
  "kernelspec": {
   "display_name": "Python 3",
   "language": "python",
   "name": "python3"
  },
  "language_info": {
   "codemirror_mode": {
    "name": "ipython",
    "version": 3
   },
   "file_extension": ".py",
   "mimetype": "text/x-python",
   "name": "python",
   "nbconvert_exporter": "python",
   "pygments_lexer": "ipython3",
   "version": "3.11.0"
  }
 },
 "nbformat": 4,
 "nbformat_minor": 0
}
